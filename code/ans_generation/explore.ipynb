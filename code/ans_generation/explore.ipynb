{
 "cells": [
  {
   "cell_type": "code",
   "execution_count": 46,
   "metadata": {},
   "outputs": [],
   "source": [
    "import string\n",
    "import random\n",
    "import pandas as pd\n",
    "from collections import defaultdict, Counter\n",
    "from matplotlib import pyplot as plt\n",
    "from statistics import mean\n",
    "from rouge_score import rouge_scorer\n",
    "\n",
    "random.seed(37)"
   ]
  },
  {
   "cell_type": "code",
   "execution_count": 13,
   "metadata": {},
   "outputs": [
    {
     "data": {
      "text/plain": [
       "{'rouge1': Score(precision=0.75, recall=0.6666666666666666, fmeasure=0.7058823529411765),\n",
       " 'rouge2': Score(precision=0.2857142857142857, recall=0.25, fmeasure=0.26666666666666666),\n",
       " 'rougeL': Score(precision=0.625, recall=0.5555555555555556, fmeasure=0.5882352941176471)}"
      ]
     },
     "execution_count": 13,
     "metadata": {},
     "output_type": "execute_result"
    }
   ],
   "source": [
    "scorer = rouge_scorer.RougeScorer(['rouge1', 'rouge2', 'rougeL'], use_stemmer=True)\n",
    "scores = scorer.score('The quick brown fox jumps over the lazy dog',\n",
    "                      'The quick brown dog jumps on the log.')\n",
    "scores"
   ]
  },
  {
   "cell_type": "code",
   "execution_count": 2,
   "metadata": {},
   "outputs": [],
   "source": [
    "# TODO: clean string\n",
    "def clean_str(ans):\n",
    "    return ans.translate(str.maketrans('', '', string.punctuation)).lower()"
   ]
  },
  {
   "cell_type": "code",
   "execution_count": 3,
   "metadata": {},
   "outputs": [
    {
     "data": {
      "text/plain": [
       "'hi how are yo'"
      ]
     },
     "execution_count": 3,
     "metadata": {},
     "output_type": "execute_result"
    }
   ],
   "source": [
    "# sample testing\n",
    "ans = clean_str('Hi! How are yo?')\n",
    "ans"
   ]
  },
  {
   "cell_type": "code",
   "execution_count": 98,
   "metadata": {},
   "outputs": [],
   "source": [
    "ans_df = pd.read_csv('answer_nucleus_flan_t5_large_0.95_1.20_bluert_rouge.csv')"
   ]
  },
  {
   "cell_type": "code",
   "execution_count": 99,
   "metadata": {},
   "outputs": [],
   "source": [
    "ppl_df = pd.read_csv('ppl_answer_nucleus_flan_t5_large_0.95_1.20.csv')"
   ]
  },
  {
   "cell_type": "code",
   "execution_count": 100,
   "metadata": {},
   "outputs": [
    {
     "data": {
      "text/plain": [
       "0         True\n",
       "1         True\n",
       "2         True\n",
       "3         True\n",
       "4         True\n",
       "          ... \n",
       "240195    True\n",
       "240196    True\n",
       "240197    True\n",
       "240198    True\n",
       "240199    True\n",
       "Name: pair_id, Length: 240200, dtype: bool"
      ]
     },
     "execution_count": 100,
     "metadata": {},
     "output_type": "execute_result"
    }
   ],
   "source": [
    "ans_df['pair_id'] == ppl_df['pair_id'] # one to one mapping"
   ]
  },
  {
   "cell_type": "code",
   "execution_count": 101,
   "metadata": {},
   "outputs": [],
   "source": [
    "ans_df['perplexity'] = ppl_df['perplexity']"
   ]
  },
  {
   "cell_type": "code",
   "execution_count": 18,
   "metadata": {},
   "outputs": [],
   "source": [
    "# Compute ROUGE Scores\n",
    "r1, r2, rl = [], [], []\n",
    "for i, row in ans_df.iterrows():\n",
    "    # NOTE: Compute ROUGE Scores\n",
    "    scores = scorer.score(clean_str(row['answer']), clean_str(row['generated_answer']))\n",
    "    r1.append(scores['rouge1'][2]) # rouge-1 f1 score\n",
    "    r2.append(scores['rouge2'][2]) # rouge-2 f1 score\n",
    "    rl.append(scores['rougeL'][2]) # rouge-L f1 score\n",
    "\n",
    "# Save ROUGE Scores\n",
    "ans_df['Rouge 1'] = r1\n",
    "ans_df['Rouge 2'] = r2\n",
    "ans_df['Rouge L'] = rl\n",
    "ans_df.to_csv('answer_nucleus_flan_t5_large_0.95_1.20_bluert_rouge.csv')"
   ]
  },
  {
   "cell_type": "code",
   "execution_count": 102,
   "metadata": {},
   "outputs": [],
   "source": [
    "# Choose based on ROUGE scores\n",
    "grp_pair_ids = ans_df.groupby('pair_id')\n",
    "select_quests = defaultdict(list)\n",
    "for pair_id, grp_content in grp_pair_ids:\n",
    "    for i, row in grp_content.iterrows():\n",
    "        if row['Rouge 1'] > 0.4:\n",
    "            select_quests[pair_id].append(row['generated_question'])            "
   ]
  },
  {
   "cell_type": "code",
   "execution_count": 103,
   "metadata": {},
   "outputs": [
    {
     "data": {
      "text/plain": [
       "0.937084689563699"
      ]
     },
     "execution_count": 103,
     "metadata": {},
     "output_type": "execute_result"
    }
   ],
   "source": [
    "# Correlation between ROUGE 1 and BLEURT Scores\n",
    "corr = ans_df['bleurt_score'].corr(ans_df['Rouge 1'])\n",
    "corr # Positive corelation"
   ]
  },
  {
   "cell_type": "code",
   "execution_count": 104,
   "metadata": {},
   "outputs": [
    {
     "data": {
      "text/plain": [
       "-0.05993191591217875"
      ]
     },
     "execution_count": 104,
     "metadata": {},
     "output_type": "execute_result"
    }
   ],
   "source": [
    "# Correlation between ROUGE 1 and Perplexity \n",
    "corr = ans_df['perplexity'].corr(ans_df['Rouge 1'])\n",
    "corr # negative corelation"
   ]
  },
  {
   "cell_type": "code",
   "execution_count": 105,
   "metadata": {},
   "outputs": [
    {
     "data": {
      "text/plain": [
       "-0.06053729831737635"
      ]
     },
     "execution_count": 105,
     "metadata": {},
     "output_type": "execute_result"
    }
   ],
   "source": [
    "# Correlation between bluert and Perplexity \n",
    "corr = ans_df['perplexity'].corr(ans_df['bleurt_score'])\n",
    "corr # negative corelation"
   ]
  },
  {
   "cell_type": "code",
   "execution_count": 92,
   "metadata": {},
   "outputs": [],
   "source": [
    "# NOTE: Exact match\n",
    "grp_pair_ids = ans_df.groupby('pair_id')\n",
    "valid_quests = defaultdict(list)\n",
    "attrs, ls, ei = [], [], []\n",
    "all_attrs, all_ls, all_ei = [], [], []\n",
    "em_bleurt = []\n",
    "em_ppl = []\n",
    "for grp_full in grp_pair_ids:\n",
    "    grp = grp_full[1]\n",
    "    # store main information\n",
    "    all_attrs.append(grp['attribute1'].tolist()[0])\n",
    "    all_ls.append(grp['local_or_sum'].tolist()[0])\n",
    "    all_ei.append(grp['ex_or_im'].tolist()[0])\n",
    "    flag = True\n",
    "    for i, row in grp.iterrows():\n",
    "        # NOTE: check for exact match\n",
    "        if clean_str(row['answer']) == clean_str(row['generated_answer']):\n",
    "            valid_quests[row['pair_id']].append(row['generated_question'])\n",
    "            if flag:\n",
    "                em_bleurt.append(row['bleurt_score'])\n",
    "                em_ppl.append(row['perplexity'])\n",
    "                attrs.append(row['attribute1'])\n",
    "                ls.append(row['local_or_sum'])\n",
    "                ei.append(row['ex_or_im'])\n",
    "                flag = False"
   ]
  },
  {
   "cell_type": "code",
   "execution_count": 6,
   "metadata": {},
   "outputs": [
    {
     "name": "stderr",
     "output_type": "stream",
     "text": [
      "/var/folders/6q/gxv2z40x4jj37_ksv541z0m40000gn/T/ipykernel_19134/4290078807.py:20: FutureWarning: The frame.append method is deprecated and will be removed from pandas in a future version. Use pandas.concat instead.\n",
      "  aug_train_df = train_df.append(pd.DataFrame(append_data,\n"
     ]
    }
   ],
   "source": [
    "# TODO: Append exact match questions with the train data\n",
    "train_df = pd.read_csv('../train_val_split_csv/train.csv')\n",
    "idwise_train_info = {}\n",
    "for i in range(len(train_df)):\n",
    "    row_vals = train_df.loc[i].values\n",
    "    idwise_train_info[row_vals[0]] = row_vals.tolist()\n",
    "append_data = []\n",
    "for pairid, aug_quests in valid_quests.items():\n",
    "    orig_row = idwise_train_info[pairid]\n",
    "    for quest in aug_quests:\n",
    "        append_row = []\n",
    "        # construct the appended row\n",
    "        for i, item in enumerate(orig_row):\n",
    "            if i == 4:\n",
    "                append_row.append(quest)\n",
    "            else:\n",
    "                append_row.append(item)\n",
    "        append_data.append(append_row)\n",
    "# Append to the train df\n",
    "aug_train_df = train_df.append(pd.DataFrame(append_data,\n",
    "                            columns=train_df.columns),\n",
    "                            ignore_index=True)\n",
    "aug_train_df.to_csv('Exact_Match_Augment_Train.csv', index=False)"
   ]
  },
  {
   "cell_type": "code",
   "execution_count": 39,
   "metadata": {},
   "outputs": [],
   "source": [
    "# Print Stats\n",
    "def get_aug_stats(train_df, aug_train_df, save_name):\n",
    "    print('Original Trainset size', len(train_df))\n",
    "    print('Augmented Trainset size', len(aug_train_df))\n",
    "    org_count = dict(sorted(dict(Counter(train_df['attribute1'])).items()))\n",
    "    aug_count = dict(sorted(dict(Counter(aug_train_df['attribute1'])).items()))\n",
    "    attr_list = list(org_count.keys())\n",
    "    org_attr_count = list(org_count.values())\n",
    "    aug_attr_count = list(aug_count.values())\n",
    "    org_attr_sum, aug_attr_sum = sum(org_attr_count), sum(aug_attr_count)\n",
    "    org_attr_per = [ctr/org_attr_sum for ctr in org_attr_count]\n",
    "    aug_attr_per = [ctr/aug_attr_sum for ctr in aug_attr_count]\n",
    "    percent_change = [(aug-org) for (aug, org) in zip(aug_attr_per, org_attr_per)]\n",
    "    attr_comp_df = pd.DataFrame()\n",
    "    attr_comp_df['Attribute'] = attr_list\n",
    "    attr_comp_df['Original Count'] = org_attr_count\n",
    "    attr_comp_df['Augmented Count'] = aug_attr_count\n",
    "    attr_comp_df['Original Percent'] = org_attr_per\n",
    "    attr_comp_df['Augmented Percent'] = aug_attr_per\n",
    "    attr_comp_df['Percent Change(Aug-Org)'] = percent_change\n",
    "    attr_comp_df.to_csv(save_name, index=False)\n",
    "    return attr_comp_df"
   ]
  },
  {
   "cell_type": "code",
   "execution_count": 37,
   "metadata": {},
   "outputs": [
    {
     "name": "stdout",
     "output_type": "stream",
     "text": [
      "Original Trainset size 6005\n",
      "Augmented Trainset size 86179\n"
     ]
    },
    {
     "data": {
      "text/html": [
       "<div>\n",
       "<style scoped>\n",
       "    .dataframe tbody tr th:only-of-type {\n",
       "        vertical-align: middle;\n",
       "    }\n",
       "\n",
       "    .dataframe tbody tr th {\n",
       "        vertical-align: top;\n",
       "    }\n",
       "\n",
       "    .dataframe thead th {\n",
       "        text-align: right;\n",
       "    }\n",
       "</style>\n",
       "<table border=\"1\" class=\"dataframe\">\n",
       "  <thead>\n",
       "    <tr style=\"text-align: right;\">\n",
       "      <th></th>\n",
       "      <th>Attribute</th>\n",
       "      <th>Original Count</th>\n",
       "      <th>Augmented Count</th>\n",
       "      <th>Original Percent</th>\n",
       "      <th>Augmented Percent</th>\n",
       "      <th>Percent Change(Aug-Org)</th>\n",
       "    </tr>\n",
       "  </thead>\n",
       "  <tbody>\n",
       "    <tr>\n",
       "      <th>0</th>\n",
       "      <td>action</td>\n",
       "      <td>1921</td>\n",
       "      <td>31220</td>\n",
       "      <td>0.319900</td>\n",
       "      <td>0.362269</td>\n",
       "      <td>0.042369</td>\n",
       "    </tr>\n",
       "    <tr>\n",
       "      <th>1</th>\n",
       "      <td>causal relationship</td>\n",
       "      <td>1673</td>\n",
       "      <td>13584</td>\n",
       "      <td>0.278601</td>\n",
       "      <td>0.157625</td>\n",
       "      <td>-0.120976</td>\n",
       "    </tr>\n",
       "    <tr>\n",
       "      <th>2</th>\n",
       "      <td>character</td>\n",
       "      <td>666</td>\n",
       "      <td>16820</td>\n",
       "      <td>0.110908</td>\n",
       "      <td>0.195175</td>\n",
       "      <td>0.084268</td>\n",
       "    </tr>\n",
       "    <tr>\n",
       "      <th>3</th>\n",
       "      <td>feeling</td>\n",
       "      <td>574</td>\n",
       "      <td>8948</td>\n",
       "      <td>0.095587</td>\n",
       "      <td>0.103830</td>\n",
       "      <td>0.008243</td>\n",
       "    </tr>\n",
       "    <tr>\n",
       "      <th>4</th>\n",
       "      <td>outcome resolution</td>\n",
       "      <td>594</td>\n",
       "      <td>5799</td>\n",
       "      <td>0.098918</td>\n",
       "      <td>0.067290</td>\n",
       "      <td>-0.031627</td>\n",
       "    </tr>\n",
       "    <tr>\n",
       "      <th>5</th>\n",
       "      <td>prediction</td>\n",
       "      <td>225</td>\n",
       "      <td>1848</td>\n",
       "      <td>0.037469</td>\n",
       "      <td>0.021444</td>\n",
       "      <td>-0.016025</td>\n",
       "    </tr>\n",
       "    <tr>\n",
       "      <th>6</th>\n",
       "      <td>setting</td>\n",
       "      <td>352</td>\n",
       "      <td>7960</td>\n",
       "      <td>0.058618</td>\n",
       "      <td>0.092366</td>\n",
       "      <td>0.033748</td>\n",
       "    </tr>\n",
       "  </tbody>\n",
       "</table>\n",
       "</div>"
      ],
      "text/plain": [
       "             Attribute  Original Count  Augmented Count  Original Percent  \\\n",
       "0               action            1921            31220          0.319900   \n",
       "1  causal relationship            1673            13584          0.278601   \n",
       "2            character             666            16820          0.110908   \n",
       "3              feeling             574             8948          0.095587   \n",
       "4   outcome resolution             594             5799          0.098918   \n",
       "5           prediction             225             1848          0.037469   \n",
       "6              setting             352             7960          0.058618   \n",
       "\n",
       "   Augmented Percent  Percent Change(Aug-Org)  \n",
       "0           0.362269                 0.042369  \n",
       "1           0.157625                -0.120976  \n",
       "2           0.195175                 0.084268  \n",
       "3           0.103830                 0.008243  \n",
       "4           0.067290                -0.031627  \n",
       "5           0.021444                -0.016025  \n",
       "6           0.092366                 0.033748  "
      ]
     },
     "execution_count": 37,
     "metadata": {},
     "output_type": "execute_result"
    }
   ],
   "source": [
    "attr_comp_df = get_aug_stats(train_df, aug_train_df, save_name='Attr_Compare.csv')\n",
    "attr_comp_df"
   ]
  },
  {
   "cell_type": "code",
   "execution_count": 43,
   "metadata": {},
   "outputs": [
    {
     "data": {
      "text/plain": [
       "1673"
      ]
     },
     "execution_count": 43,
     "metadata": {},
     "output_type": "execute_result"
    }
   ],
   "source": [
    "attr_comp_df['Original Count'][1]"
   ]
  },
  {
   "cell_type": "code",
   "execution_count": 51,
   "metadata": {},
   "outputs": [
    {
     "data": {
      "text/plain": [
       "307"
      ]
     },
     "execution_count": 51,
     "metadata": {},
     "output_type": "execute_result"
    }
   ],
   "source": [
    "act_causal = 0\n",
    "for i in range(6):\n",
    "    if i == 0 or i==1:\n",
    "        act_causal += attr_comp_df['Original Count'][i]\n",
    "    else:\n",
    "        act_causal -= attr_comp_df['Original Count'][i]\n",
    "act_causal\n",
    "per_attr_allowed = act_causal//len(select_attrs)\n",
    "per_attr_allowed"
   ]
  },
  {
   "cell_type": "code",
   "execution_count": 56,
   "metadata": {},
   "outputs": [
    {
     "name": "stderr",
     "output_type": "stream",
     "text": [
      "/var/folders/6q/gxv2z40x4jj37_ksv541z0m40000gn/T/ipykernel_19134/4286529252.py:44: FutureWarning: The frame.append method is deprecated and will be removed from pandas in a future version. Use pandas.concat instead.\n",
      "  sel_aug_train_df = train_df.append(pd.DataFrame(select_append_data,\n"
     ]
    }
   ],
   "source": [
    "# TODO: Selectively Append exact match questions (Char, Feel, OutRes, Pred, Setting) with the train data\n",
    "train_df = pd.read_csv('../train_val_split_csv/train.csv')\n",
    "act_causal = 0 # extra to normalize\n",
    "for i in range(6):\n",
    "    if i == 0 or i==1:\n",
    "        act_causal += attr_comp_df['Original Count'][i]\n",
    "    else:\n",
    "        act_causal -= attr_comp_df['Original Count'][i]\n",
    "# underrepresented cateogries\n",
    "select_attrs = ['character', 'feeling', 'outcome resolution', 'prediction', 'setting']\n",
    "per_attr_allowed = act_causal//len(select_attrs)\n",
    "select_attrs_count = {key:per_attr_allowed for key in select_attrs}\n",
    "idwise_train_info = {}\n",
    "for i in range(len(train_df)):\n",
    "    row_vals = train_df.loc[i].values\n",
    "    idwise_train_info[row_vals[0]] = row_vals.tolist()\n",
    "append_data = []\n",
    "for pairid, aug_quests in valid_quests.items():\n",
    "    orig_row = idwise_train_info[pairid]\n",
    "    attr_type = orig_row[6]\n",
    "    # Selectively append the data\n",
    "    if attr_type in select_attrs:\n",
    "        for quest in aug_quests:\n",
    "            append_row = []\n",
    "            # construct the appended row\n",
    "            for i, item in enumerate(orig_row):\n",
    "                if i == 4:\n",
    "                    append_row.append(quest)\n",
    "                else:\n",
    "                    append_row.append(item)\n",
    "            append_data.append(append_row)\n",
    "    else:\n",
    "        pass\n",
    "# Append balanced quantity\n",
    "select_append_data = []\n",
    "# shuffle initial data\n",
    "random.shuffle(append_data)\n",
    "for data in append_data:\n",
    "    attr = data[6]\n",
    "    if select_attrs_count[attr] > 0:\n",
    "        select_append_data.append(data)\n",
    "        select_attrs_count[attr] -=1\n",
    "# Append to the train df\n",
    "sel_aug_train_df = train_df.append(pd.DataFrame(select_append_data,\n",
    "                            columns=train_df.columns),\n",
    "                            ignore_index=True)\n",
    "sel_aug_train_df.to_csv('Sel_Exact_Match_Augment_Train.csv', index=False)"
   ]
  },
  {
   "cell_type": "code",
   "execution_count": 57,
   "metadata": {},
   "outputs": [
    {
     "name": "stdout",
     "output_type": "stream",
     "text": [
      "Original Trainset size 6005\n",
      "Augmented Trainset size 7540\n"
     ]
    },
    {
     "data": {
      "text/html": [
       "<div>\n",
       "<style scoped>\n",
       "    .dataframe tbody tr th:only-of-type {\n",
       "        vertical-align: middle;\n",
       "    }\n",
       "\n",
       "    .dataframe tbody tr th {\n",
       "        vertical-align: top;\n",
       "    }\n",
       "\n",
       "    .dataframe thead th {\n",
       "        text-align: right;\n",
       "    }\n",
       "</style>\n",
       "<table border=\"1\" class=\"dataframe\">\n",
       "  <thead>\n",
       "    <tr style=\"text-align: right;\">\n",
       "      <th></th>\n",
       "      <th>Attribute</th>\n",
       "      <th>Original Count</th>\n",
       "      <th>Augmented Count</th>\n",
       "      <th>Original Percent</th>\n",
       "      <th>Augmented Percent</th>\n",
       "      <th>Percent Change(Aug-Org)</th>\n",
       "    </tr>\n",
       "  </thead>\n",
       "  <tbody>\n",
       "    <tr>\n",
       "      <th>0</th>\n",
       "      <td>action</td>\n",
       "      <td>1921</td>\n",
       "      <td>1921</td>\n",
       "      <td>0.319900</td>\n",
       "      <td>0.254775</td>\n",
       "      <td>-0.065126</td>\n",
       "    </tr>\n",
       "    <tr>\n",
       "      <th>1</th>\n",
       "      <td>causal relationship</td>\n",
       "      <td>1673</td>\n",
       "      <td>1673</td>\n",
       "      <td>0.278601</td>\n",
       "      <td>0.221883</td>\n",
       "      <td>-0.056718</td>\n",
       "    </tr>\n",
       "    <tr>\n",
       "      <th>2</th>\n",
       "      <td>character</td>\n",
       "      <td>666</td>\n",
       "      <td>973</td>\n",
       "      <td>0.110908</td>\n",
       "      <td>0.129045</td>\n",
       "      <td>0.018138</td>\n",
       "    </tr>\n",
       "    <tr>\n",
       "      <th>3</th>\n",
       "      <td>feeling</td>\n",
       "      <td>574</td>\n",
       "      <td>881</td>\n",
       "      <td>0.095587</td>\n",
       "      <td>0.116844</td>\n",
       "      <td>0.021256</td>\n",
       "    </tr>\n",
       "    <tr>\n",
       "      <th>4</th>\n",
       "      <td>outcome resolution</td>\n",
       "      <td>594</td>\n",
       "      <td>901</td>\n",
       "      <td>0.098918</td>\n",
       "      <td>0.119496</td>\n",
       "      <td>0.020578</td>\n",
       "    </tr>\n",
       "    <tr>\n",
       "      <th>5</th>\n",
       "      <td>prediction</td>\n",
       "      <td>225</td>\n",
       "      <td>532</td>\n",
       "      <td>0.037469</td>\n",
       "      <td>0.070557</td>\n",
       "      <td>0.033088</td>\n",
       "    </tr>\n",
       "    <tr>\n",
       "      <th>6</th>\n",
       "      <td>setting</td>\n",
       "      <td>352</td>\n",
       "      <td>659</td>\n",
       "      <td>0.058618</td>\n",
       "      <td>0.087401</td>\n",
       "      <td>0.028783</td>\n",
       "    </tr>\n",
       "  </tbody>\n",
       "</table>\n",
       "</div>"
      ],
      "text/plain": [
       "             Attribute  Original Count  Augmented Count  Original Percent  \\\n",
       "0               action            1921             1921          0.319900   \n",
       "1  causal relationship            1673             1673          0.278601   \n",
       "2            character             666              973          0.110908   \n",
       "3              feeling             574              881          0.095587   \n",
       "4   outcome resolution             594              901          0.098918   \n",
       "5           prediction             225              532          0.037469   \n",
       "6              setting             352              659          0.058618   \n",
       "\n",
       "   Augmented Percent  Percent Change(Aug-Org)  \n",
       "0           0.254775                -0.065126  \n",
       "1           0.221883                -0.056718  \n",
       "2           0.129045                 0.018138  \n",
       "3           0.116844                 0.021256  \n",
       "4           0.119496                 0.020578  \n",
       "5           0.070557                 0.033088  \n",
       "6           0.087401                 0.028783  "
      ]
     },
     "execution_count": 57,
     "metadata": {},
     "output_type": "execute_result"
    }
   ],
   "source": [
    "sel_attr_comp_df = get_aug_stats(train_df, sel_aug_train_df, save_name='Sel_Attr_Compare.csv')\n",
    "sel_attr_comp_df"
   ]
  },
  {
   "cell_type": "code",
   "execution_count": 63,
   "metadata": {},
   "outputs": [
    {
     "data": {
      "text/plain": [
       "1797"
      ]
     },
     "execution_count": 63,
     "metadata": {},
     "output_type": "execute_result"
    }
   ],
   "source": [
    "act_causal = (attr_comp_df['Original Count'][0] + attr_comp_df['Original Count'][1])//2 # extra to normalize"
   ]
  },
  {
   "cell_type": "code",
   "execution_count": 69,
   "metadata": {},
   "outputs": [
    {
     "data": {
      "text/plain": [
       "666"
      ]
     },
     "execution_count": 69,
     "metadata": {},
     "output_type": "execute_result"
    }
   ],
   "source": [
    "index = attr_comp_df.index[attr_comp_df['Attribute']=='character'].tolist()[0]\n",
    "attr_comp_df.iloc[index]['Original Count']"
   ]
  },
  {
   "cell_type": "code",
   "execution_count": 72,
   "metadata": {},
   "outputs": [
    {
     "data": {
      "text/plain": [
       "{'character': 0,\n",
       " 'feeling': 0,\n",
       " 'outcome resolution': 0,\n",
       " 'prediction': 174,\n",
       " 'setting': 0}"
      ]
     },
     "execution_count": 72,
     "metadata": {},
     "output_type": "execute_result"
    }
   ],
   "source": [
    "select_attrs_count"
   ]
  },
  {
   "cell_type": "code",
   "execution_count": 110,
   "metadata": {},
   "outputs": [
    {
     "name": "stderr",
     "output_type": "stream",
     "text": [
      "/var/folders/6q/gxv2z40x4jj37_ksv541z0m40000gn/T/ipykernel_19134/2144829004.py:40: FutureWarning: The frame.append method is deprecated and will be removed from pandas in a future version. Use pandas.concat instead.\n",
      "  sel_aug_train_df = train_df.append(pd.DataFrame(select_append_data,\n"
     ]
    }
   ],
   "source": [
    "# TODO: Selectively Append exact match questions (Char, Feel, OutRes, Pred, Setting) with the train data\n",
    "train_df = pd.read_csv('../train_val_split_csv/train.csv')\n",
    "act_causal = (attr_comp_df['Original Count'][0] + attr_comp_df['Original Count'][1])//2 # extra to normalize\n",
    "select_attrs = ['character', 'feeling', 'outcome resolution', 'prediction', 'setting']\n",
    "select_attrs_count = {}\n",
    "for key in select_attrs:\n",
    "    index = attr_comp_df.index[attr_comp_df['Attribute']==key].tolist()[0]\n",
    "    select_attrs_count[key] = act_causal - attr_comp_df.iloc[index]['Original Count']\n",
    "idwise_train_info = {}\n",
    "for i in range(len(train_df)):\n",
    "    row_vals = train_df.loc[i].values\n",
    "    idwise_train_info[row_vals[0]] = row_vals.tolist()\n",
    "append_data = []\n",
    "for pairid, aug_quests in valid_quests.items():\n",
    "    orig_row = idwise_train_info[pairid]\n",
    "    attr_type = orig_row[6]\n",
    "    # Selectively append the data\n",
    "    if attr_type in select_attrs:\n",
    "        for quest in aug_quests:\n",
    "            append_row = []\n",
    "            # construct the appended row\n",
    "            for i, item in enumerate(orig_row):\n",
    "                if i == 4:\n",
    "                    append_row.append(quest)\n",
    "                else:\n",
    "                    append_row.append(item)\n",
    "            append_data.append(append_row)\n",
    "    else:\n",
    "        pass\n",
    "# Append balanced quantity\n",
    "select_append_data = []\n",
    "# shuffle initial data\n",
    "random.shuffle(append_data)\n",
    "for data in append_data:\n",
    "    attr = data[6]\n",
    "    if select_attrs_count[attr] > 0:\n",
    "        select_append_data.append(data)\n",
    "        select_attrs_count[attr] -=1\n",
    "# Append to the train df\n",
    "sel_aug_train_df = train_df.append(pd.DataFrame(select_append_data,\n",
    "                            columns=train_df.columns),\n",
    "                            ignore_index=True)\n",
    "sel_aug_train_df.to_csv('Sel_Exact_Match_Augment_Train.csv', index=False)"
   ]
  },
  {
   "cell_type": "code",
   "execution_count": 111,
   "metadata": {},
   "outputs": [
    {
     "name": "stdout",
     "output_type": "stream",
     "text": [
      "Original Trainset size 6005\n",
      "Augmented Trainset size 12579\n"
     ]
    },
    {
     "data": {
      "text/html": [
       "<div>\n",
       "<style scoped>\n",
       "    .dataframe tbody tr th:only-of-type {\n",
       "        vertical-align: middle;\n",
       "    }\n",
       "\n",
       "    .dataframe tbody tr th {\n",
       "        vertical-align: top;\n",
       "    }\n",
       "\n",
       "    .dataframe thead th {\n",
       "        text-align: right;\n",
       "    }\n",
       "</style>\n",
       "<table border=\"1\" class=\"dataframe\">\n",
       "  <thead>\n",
       "    <tr style=\"text-align: right;\">\n",
       "      <th></th>\n",
       "      <th>Attribute</th>\n",
       "      <th>Original Count</th>\n",
       "      <th>Augmented Count</th>\n",
       "      <th>Original Percent</th>\n",
       "      <th>Augmented Percent</th>\n",
       "      <th>Percent Change(Aug-Org)</th>\n",
       "    </tr>\n",
       "  </thead>\n",
       "  <tbody>\n",
       "    <tr>\n",
       "      <th>0</th>\n",
       "      <td>action</td>\n",
       "      <td>1921</td>\n",
       "      <td>1921</td>\n",
       "      <td>0.319900</td>\n",
       "      <td>0.152715</td>\n",
       "      <td>-0.167185</td>\n",
       "    </tr>\n",
       "    <tr>\n",
       "      <th>1</th>\n",
       "      <td>causal relationship</td>\n",
       "      <td>1673</td>\n",
       "      <td>1673</td>\n",
       "      <td>0.278601</td>\n",
       "      <td>0.132999</td>\n",
       "      <td>-0.145602</td>\n",
       "    </tr>\n",
       "    <tr>\n",
       "      <th>2</th>\n",
       "      <td>character</td>\n",
       "      <td>666</td>\n",
       "      <td>1797</td>\n",
       "      <td>0.110908</td>\n",
       "      <td>0.142857</td>\n",
       "      <td>0.031950</td>\n",
       "    </tr>\n",
       "    <tr>\n",
       "      <th>3</th>\n",
       "      <td>feeling</td>\n",
       "      <td>574</td>\n",
       "      <td>1797</td>\n",
       "      <td>0.095587</td>\n",
       "      <td>0.142857</td>\n",
       "      <td>0.047270</td>\n",
       "    </tr>\n",
       "    <tr>\n",
       "      <th>4</th>\n",
       "      <td>outcome resolution</td>\n",
       "      <td>594</td>\n",
       "      <td>1797</td>\n",
       "      <td>0.098918</td>\n",
       "      <td>0.142857</td>\n",
       "      <td>0.043940</td>\n",
       "    </tr>\n",
       "    <tr>\n",
       "      <th>5</th>\n",
       "      <td>prediction</td>\n",
       "      <td>225</td>\n",
       "      <td>1797</td>\n",
       "      <td>0.037469</td>\n",
       "      <td>0.142857</td>\n",
       "      <td>0.105388</td>\n",
       "    </tr>\n",
       "    <tr>\n",
       "      <th>6</th>\n",
       "      <td>setting</td>\n",
       "      <td>352</td>\n",
       "      <td>1797</td>\n",
       "      <td>0.058618</td>\n",
       "      <td>0.142857</td>\n",
       "      <td>0.084239</td>\n",
       "    </tr>\n",
       "  </tbody>\n",
       "</table>\n",
       "</div>"
      ],
      "text/plain": [
       "             Attribute  Original Count  Augmented Count  Original Percent  \\\n",
       "0               action            1921             1921          0.319900   \n",
       "1  causal relationship            1673             1673          0.278601   \n",
       "2            character             666             1797          0.110908   \n",
       "3              feeling             574             1797          0.095587   \n",
       "4   outcome resolution             594             1797          0.098918   \n",
       "5           prediction             225             1797          0.037469   \n",
       "6              setting             352             1797          0.058618   \n",
       "\n",
       "   Augmented Percent  Percent Change(Aug-Org)  \n",
       "0           0.152715                -0.167185  \n",
       "1           0.132999                -0.145602  \n",
       "2           0.142857                 0.031950  \n",
       "3           0.142857                 0.047270  \n",
       "4           0.142857                 0.043940  \n",
       "5           0.142857                 0.105388  \n",
       "6           0.142857                 0.084239  "
      ]
     },
     "execution_count": 111,
     "metadata": {},
     "output_type": "execute_result"
    }
   ],
   "source": [
    "sel_attr_comp_df = get_aug_stats(train_df, sel_aug_train_df, save_name='Sel_Attr_Compare.csv')\n",
    "sel_attr_comp_df"
   ]
  },
  {
   "cell_type": "code",
   "execution_count": 108,
   "metadata": {},
   "outputs": [
    {
     "name": "stderr",
     "output_type": "stream",
     "text": [
      "/var/folders/6q/gxv2z40x4jj37_ksv541z0m40000gn/T/ipykernel_19134/617284049.py:40: FutureWarning: The frame.append method is deprecated and will be removed from pandas in a future version. Use pandas.concat instead.\n",
      "  sel_aug_train_df = train_df.append(pd.DataFrame(select_append_data,\n"
     ]
    }
   ],
   "source": [
    "# TODO: Selectively Append exact match questions (Char, Feel, OutRes, Pred, Setting) with the train data\n",
    "train_df = pd.read_csv('../train_val_split_csv/train.csv')\n",
    "max_threshold = 2073\n",
    "select_attrs = ['action', 'causal relationship', 'character', 'feeling', 'outcome resolution', 'prediction', 'setting']\n",
    "select_attrs_count = {}\n",
    "for key in select_attrs:\n",
    "    index = attr_comp_df.index[attr_comp_df['Attribute']==key].tolist()[0]\n",
    "    select_attrs_count[key] = max_threshold - attr_comp_df.iloc[index]['Original Count']\n",
    "idwise_train_info = {}\n",
    "for i in range(len(train_df)):\n",
    "    row_vals = train_df.loc[i].values\n",
    "    idwise_train_info[row_vals[0]] = row_vals.tolist()\n",
    "append_data = []\n",
    "for pairid, aug_quests in valid_quests.items():\n",
    "    orig_row = idwise_train_info[pairid]\n",
    "    attr_type = orig_row[6]\n",
    "    # Selectively append the data\n",
    "    if attr_type in select_attrs:\n",
    "        for quest in aug_quests:\n",
    "            append_row = []\n",
    "            # construct the appended row\n",
    "            for i, item in enumerate(orig_row):\n",
    "                if i == 4:\n",
    "                    append_row.append(quest)\n",
    "                else:\n",
    "                    append_row.append(item)\n",
    "            append_data.append(append_row)\n",
    "    else:\n",
    "        pass\n",
    "# Append balanced quantity\n",
    "select_append_data = []\n",
    "# shuffle initial data\n",
    "random.shuffle(append_data)\n",
    "for data in append_data:\n",
    "    attr = data[6]\n",
    "    if select_attrs_count[attr] > 0:\n",
    "        select_append_data.append(data)\n",
    "        select_attrs_count[attr] -=1\n",
    "# Append to the train df\n",
    "sel_aug_train_df = train_df.append(pd.DataFrame(select_append_data,\n",
    "                            columns=train_df.columns),\n",
    "                            ignore_index=True)\n",
    "sel_aug_train_df.to_csv('Sel2_Exact_Match_Augment_Train.csv', index=False)"
   ]
  },
  {
   "cell_type": "code",
   "execution_count": 109,
   "metadata": {},
   "outputs": [
    {
     "name": "stdout",
     "output_type": "stream",
     "text": [
      "Original Trainset size 6005\n",
      "Augmented Trainset size 14286\n"
     ]
    },
    {
     "data": {
      "text/html": [
       "<div>\n",
       "<style scoped>\n",
       "    .dataframe tbody tr th:only-of-type {\n",
       "        vertical-align: middle;\n",
       "    }\n",
       "\n",
       "    .dataframe tbody tr th {\n",
       "        vertical-align: top;\n",
       "    }\n",
       "\n",
       "    .dataframe thead th {\n",
       "        text-align: right;\n",
       "    }\n",
       "</style>\n",
       "<table border=\"1\" class=\"dataframe\">\n",
       "  <thead>\n",
       "    <tr style=\"text-align: right;\">\n",
       "      <th></th>\n",
       "      <th>Attribute</th>\n",
       "      <th>Original Count</th>\n",
       "      <th>Augmented Count</th>\n",
       "      <th>Original Percent</th>\n",
       "      <th>Augmented Percent</th>\n",
       "      <th>Percent Change(Aug-Org)</th>\n",
       "    </tr>\n",
       "  </thead>\n",
       "  <tbody>\n",
       "    <tr>\n",
       "      <th>0</th>\n",
       "      <td>action</td>\n",
       "      <td>1921</td>\n",
       "      <td>2073</td>\n",
       "      <td>0.319900</td>\n",
       "      <td>0.145107</td>\n",
       "      <td>-0.174793</td>\n",
       "    </tr>\n",
       "    <tr>\n",
       "      <th>1</th>\n",
       "      <td>causal relationship</td>\n",
       "      <td>1673</td>\n",
       "      <td>2073</td>\n",
       "      <td>0.278601</td>\n",
       "      <td>0.145107</td>\n",
       "      <td>-0.133494</td>\n",
       "    </tr>\n",
       "    <tr>\n",
       "      <th>2</th>\n",
       "      <td>character</td>\n",
       "      <td>666</td>\n",
       "      <td>2073</td>\n",
       "      <td>0.110908</td>\n",
       "      <td>0.145107</td>\n",
       "      <td>0.034200</td>\n",
       "    </tr>\n",
       "    <tr>\n",
       "      <th>3</th>\n",
       "      <td>feeling</td>\n",
       "      <td>574</td>\n",
       "      <td>2073</td>\n",
       "      <td>0.095587</td>\n",
       "      <td>0.145107</td>\n",
       "      <td>0.049520</td>\n",
       "    </tr>\n",
       "    <tr>\n",
       "      <th>4</th>\n",
       "      <td>outcome resolution</td>\n",
       "      <td>594</td>\n",
       "      <td>2073</td>\n",
       "      <td>0.098918</td>\n",
       "      <td>0.145107</td>\n",
       "      <td>0.046190</td>\n",
       "    </tr>\n",
       "    <tr>\n",
       "      <th>5</th>\n",
       "      <td>prediction</td>\n",
       "      <td>225</td>\n",
       "      <td>1848</td>\n",
       "      <td>0.037469</td>\n",
       "      <td>0.129357</td>\n",
       "      <td>0.091889</td>\n",
       "    </tr>\n",
       "    <tr>\n",
       "      <th>6</th>\n",
       "      <td>setting</td>\n",
       "      <td>352</td>\n",
       "      <td>2073</td>\n",
       "      <td>0.058618</td>\n",
       "      <td>0.145107</td>\n",
       "      <td>0.086489</td>\n",
       "    </tr>\n",
       "  </tbody>\n",
       "</table>\n",
       "</div>"
      ],
      "text/plain": [
       "             Attribute  Original Count  Augmented Count  Original Percent  \\\n",
       "0               action            1921             2073          0.319900   \n",
       "1  causal relationship            1673             2073          0.278601   \n",
       "2            character             666             2073          0.110908   \n",
       "3              feeling             574             2073          0.095587   \n",
       "4   outcome resolution             594             2073          0.098918   \n",
       "5           prediction             225             1848          0.037469   \n",
       "6              setting             352             2073          0.058618   \n",
       "\n",
       "   Augmented Percent  Percent Change(Aug-Org)  \n",
       "0           0.145107                -0.174793  \n",
       "1           0.145107                -0.133494  \n",
       "2           0.145107                 0.034200  \n",
       "3           0.145107                 0.049520  \n",
       "4           0.145107                 0.046190  \n",
       "5           0.129357                 0.091889  \n",
       "6           0.145107                 0.086489  "
      ]
     },
     "execution_count": 109,
     "metadata": {},
     "output_type": "execute_result"
    }
   ],
   "source": [
    "sel_attr_comp_df = get_aug_stats(train_df, sel_aug_train_df, save_name='Sel2_Attr_Compare.csv')\n",
    "sel_attr_comp_df"
   ]
  },
  {
   "cell_type": "code",
   "execution_count": 7,
   "metadata": {},
   "outputs": [
    {
     "name": "stdout",
     "output_type": "stream",
     "text": [
      "Total samples: 6005\n"
     ]
    }
   ],
   "source": [
    "print('Total samples:', len(set(ans_df['pair_id'].tolist())))"
   ]
  },
  {
   "cell_type": "code",
   "execution_count": 8,
   "metadata": {},
   "outputs": [],
   "source": [
    "valid_pair_ids = list(valid_quests.keys())"
   ]
  },
  {
   "cell_type": "code",
   "execution_count": 10,
   "metadata": {},
   "outputs": [],
   "source": [
    "def get_stats_of_matching(valid_quests, attrs, ls, ei, all_attrs, all_ls, all_ei):\n",
    "    print('Samples with atleast one match:', len(valid_quests))\n",
    "    attr_stats = Counter(attrs)\n",
    "    # print(attr_stats)\n",
    "    ls_stats = Counter(ls)\n",
    "    # print(ls_stats)\n",
    "    ei_stats = Counter(ei)\n",
    "    # print(ei_stats)\n",
    "    all_attrs_stats = Counter(all_attrs)\n",
    "    # print(all_attrs_stats)\n",
    "    all_ls_stats = Counter(all_ls)\n",
    "    # print(all_ls_stats)\n",
    "    all_ei_stats = Counter(all_ei)\n",
    "    # print(all_ei_stats)\n",
    "    print('############################')\n",
    "    print('Fraction matches by attribute type:')\n",
    "    for attr, count in all_attrs_stats.items():\n",
    "        em_count = attr_stats[attr]\n",
    "        frac = em_count/count\n",
    "        print('{:s} : {:.2f}'.format(attr, frac))\n",
    "    print('############################')\n",
    "    print('Fraction matches by locality:')\n",
    "    for ls, count in all_ls_stats.items():\n",
    "        em_count = ls_stats[ls]\n",
    "        frac = em_count/count\n",
    "        print('{:s} : {:.2f}'.format(ls, frac))\n",
    "    print('############################')\n",
    "    print('Fraction matches by explicit/implicit:')\n",
    "    for ei, count in all_ei_stats.items():\n",
    "        em_count = ei_stats[ei]\n",
    "        frac = em_count/count\n",
    "        print('{:s} : {:.2f}'.format(ei, frac))\n",
    "    print('############################')"
   ]
  },
  {
   "cell_type": "code",
   "execution_count": 11,
   "metadata": {},
   "outputs": [
    {
     "name": "stdout",
     "output_type": "stream",
     "text": [
      "Stats for Exact Match\n",
      "############################\n",
      "Samples with atleast one match: 3378\n",
      "############################\n",
      "Fraction matches by attribute type:\n",
      "prediction : 0.34\n",
      "setting : 0.78\n",
      "action : 0.64\n",
      "causal relationship : 0.34\n",
      "outcome resolution : 0.55\n",
      "feeling : 0.62\n",
      "character : 0.80\n",
      "############################\n",
      "Fraction matches by locality:\n",
      "summary : 0.16\n",
      "local : 0.60\n",
      "############################\n",
      "Fraction matches by explicit/implicit:\n",
      "explicit : 0.69\n",
      "implicit : 0.18\n",
      "############################\n"
     ]
    }
   ],
   "source": [
    "print('Stats for Exact Match')\n",
    "print('############################')\n",
    "get_stats_of_matching(valid_quests, attrs, ls, ei, all_attrs, all_ls, all_ei)"
   ]
  },
  {
   "cell_type": "code",
   "execution_count": 22,
   "metadata": {},
   "outputs": [
    {
     "name": "stdout",
     "output_type": "stream",
     "text": [
      "BLEURT of Exact Matches:\n",
      "Minimum: 0.3079376220703125\n",
      "Maximum: 1.0948092937469482\n",
      "Mean: 0.9446384950704727\n"
     ]
    }
   ],
   "source": [
    "print('BLEURT of Exact Matches:')\n",
    "print('Minimum:', min(em_bleurt))\n",
    "print('Maximum:', max(em_bleurt))\n",
    "print('Mean:', mean(em_bleurt))"
   ]
  },
  {
   "cell_type": "code",
   "execution_count": 29,
   "metadata": {},
   "outputs": [
    {
     "data": {
      "image/png": "[encoded data removed]",
      "text/plain": [
       "<Figure size 720x504 with 1 Axes>"
      ]
     },
     "metadata": {
      "needs_background": "light"
     },
     "output_type": "display_data"
    }
   ],
   "source": [
    "fig, ax = plt.subplots(figsize =(10, 7))\n",
    "bins = [0.1*ctr for ctr in range(0, 12)]\n",
    "ax.hist(em_bleurt, bins = bins)\n",
    "plt.xlabel('BLEURT Scores')\n",
    "plt.ylabel('Number of Samples')\n",
    "plt.title('BLEURT Scores distribution')\n",
    "\n",
    " \n",
    "# Show plot\n",
    "plt.show()"
   ]
  },
  {
   "cell_type": "code",
   "execution_count": 94,
   "metadata": {},
   "outputs": [
    {
     "name": "stdout",
     "output_type": "stream",
     "text": [
      "Maximum Perplexity: 10.922181129455566\n",
      "Minimum Perplexity: 1.0019041299819946\n",
      "Mean Perplexity: 1.2683538149771005\n"
     ]
    }
   ],
   "source": [
    "# TODO: Analyze perplexity for Exact Match\n",
    "print('Maximum Perplexity:', max(em_ppl))\n",
    "print('Minimum Perplexity:', min(em_ppl))\n",
    "print('Mean Perplexity:', mean(em_ppl))"
   ]
  },
  {
   "cell_type": "code",
   "execution_count": 96,
   "metadata": {},
   "outputs": [
    {
     "data": {
      "image/png": "[encoded data removed]",
      "text/plain": [
       "<Figure size 640x480 with 1 Axes>"
      ]
     },
     "metadata": {},
     "output_type": "display_data"
    }
   ],
   "source": [
    "# Scatter plot of perplexity\n",
    "num = [ctr+1 for ctr in range(len(em_ppl))]\n",
    "plt.scatter(num, em_ppl)\n",
    "plt.ylabel('perplexity')\n",
    "plt.xlabel('Samples')\n",
    "plt.title('Perplexity distribution for Exact Match')\n",
    "plt.show()"
   ]
  },
  {
   "cell_type": "code",
   "execution_count": 44,
   "metadata": {},
   "outputs": [],
   "source": [
    "# # NOTE: generated contained in ground-truth\n",
    "# grp_pair_ids = ans_df.groupby('pair_id')\n",
    "# valid_quests = defaultdict(list)\n",
    "# attrs, ls, ei = [], [], []\n",
    "# all_attrs, all_ls, all_ei = [], [], []\n",
    "# for grp_full in grp_pair_ids:\n",
    "#     grp = grp_full[1]\n",
    "#     # store main information\n",
    "#     all_attrs.append(grp['attribute1'].tolist()[0])\n",
    "#     all_ls.append(grp['local_or_sum'].tolist()[0])\n",
    "#     all_ei.append(grp['ex_or_im'].tolist()[0])\n",
    "#     flag = True\n",
    "#     for i, row in grp.iterrows():\n",
    "#         if clean_str(row['answer']) in clean_str(row['generated_answer']):\n",
    "#             valid_quests[row['pair_id']].append(row['generated_question'])\n",
    "#             if flag:\n",
    "#                 attrs.append(row['attribute1'])\n",
    "#                 ls.append(row['local_or_sum'])\n",
    "#                 ei.append(row['ex_or_im'])\n",
    "#                 flag = False"
   ]
  },
  {
   "cell_type": "code",
   "execution_count": 45,
   "metadata": {},
   "outputs": [
    {
     "name": "stdout",
     "output_type": "stream",
     "text": [
      "Stats for generated contained in ground-truth match\n",
      "Samples with atleast one match: 3637\n",
      "############################\n",
      "Fraction matches by attribute type:\n",
      "prediction : 0.37\n",
      "setting : 0.81\n",
      "action : 0.70\n",
      "causal relationship : 0.38\n",
      "outcome resolution : 0.61\n",
      "feeling : 0.65\n",
      "character : 0.82\n",
      "############################\n",
      "Fraction matches by locality:\n",
      "summary : 0.19\n",
      "local : 0.64\n",
      "############################\n",
      "Fraction matches by explicit/implicit:\n",
      "explicit : 0.74\n",
      "implicit : 0.20\n",
      "############################\n"
     ]
    }
   ],
   "source": [
    "# print('Stats for generated contained in ground-truth match')\n",
    "# get_stats_of_matching(valid_quests, attrs, ls, ei, all_attrs, all_ls, all_ei)"
   ]
  },
  {
   "cell_type": "code",
   "execution_count": 79,
   "metadata": {},
   "outputs": [
    {
     "data": {
      "text/html": [
       "<div>\n",
       "<style scoped>\n",
       "    .dataframe tbody tr th:only-of-type {\n",
       "        vertical-align: middle;\n",
       "    }\n",
       "\n",
       "    .dataframe tbody tr th {\n",
       "        vertical-align: top;\n",
       "    }\n",
       "\n",
       "    .dataframe thead th {\n",
       "        text-align: right;\n",
       "    }\n",
       "</style>\n",
       "<table border=\"1\" class=\"dataframe\">\n",
       "  <thead>\n",
       "    <tr style=\"text-align: right;\">\n",
       "      <th></th>\n",
       "      <th>pair_id</th>\n",
       "      <th>prompt</th>\n",
       "      <th>answer</th>\n",
       "      <th>generated_answer</th>\n",
       "      <th>perplexity</th>\n",
       "    </tr>\n",
       "  </thead>\n",
       "  <tbody>\n",
       "    <tr>\n",
       "      <th>0</th>\n",
       "      <td>23ce8aec4b32591b</td>\n",
       "      <td>Generate answer from story and question:\\nThe ...</td>\n",
       "      <td>a horse</td>\n",
       "      <td>a horse</td>\n",
       "      <td>1.052149</td>\n",
       "    </tr>\n",
       "    <tr>\n",
       "      <th>1</th>\n",
       "      <td>23ce8aec4b32591b</td>\n",
       "      <td>Generate answer from story and question:\\nThe ...</td>\n",
       "      <td>a horse</td>\n",
       "      <td>a horse for his journey</td>\n",
       "      <td>2.092725</td>\n",
       "    </tr>\n",
       "    <tr>\n",
       "      <th>2</th>\n",
       "      <td>23ce8aec4b32591b</td>\n",
       "      <td>Generate answer from story and question:\\nThe ...</td>\n",
       "      <td>a horse</td>\n",
       "      <td>a horse for his journey</td>\n",
       "      <td>2.095316</td>\n",
       "    </tr>\n",
       "    <tr>\n",
       "      <th>3</th>\n",
       "      <td>23ce8aec4b32591b</td>\n",
       "      <td>Generate answer from story and question:\\nThe ...</td>\n",
       "      <td>a horse</td>\n",
       "      <td>a horse for his journey</td>\n",
       "      <td>2.720231</td>\n",
       "    </tr>\n",
       "    <tr>\n",
       "      <th>4</th>\n",
       "      <td>23ce8aec4b32591b</td>\n",
       "      <td>Generate answer from story and question:\\nThe ...</td>\n",
       "      <td>a horse</td>\n",
       "      <td>a horse</td>\n",
       "      <td>1.052216</td>\n",
       "    </tr>\n",
       "  </tbody>\n",
       "</table>\n",
       "</div>"
      ],
      "text/plain": [
       "            pair_id                                             prompt  \\\n",
       "0  23ce8aec4b32591b  Generate answer from story and question:\\nThe ...   \n",
       "1  23ce8aec4b32591b  Generate answer from story and question:\\nThe ...   \n",
       "2  23ce8aec4b32591b  Generate answer from story and question:\\nThe ...   \n",
       "3  23ce8aec4b32591b  Generate answer from story and question:\\nThe ...   \n",
       "4  23ce8aec4b32591b  Generate answer from story and question:\\nThe ...   \n",
       "\n",
       "    answer         generated_answer  perplexity  \n",
       "0  a horse                  a horse    1.052149  \n",
       "1  a horse  a horse for his journey    2.092725  \n",
       "2  a horse  a horse for his journey    2.095316  \n",
       "3  a horse  a horse for his journey    2.720231  \n",
       "4  a horse                  a horse    1.052216  "
      ]
     },
     "execution_count": 79,
     "metadata": {},
     "output_type": "execute_result"
    }
   ],
   "source": [
    "# ans_df = pd.read_csv('answer_nucleus_flan_t5_large_0.95_1.20.csv')\n",
    "# ppl_df = pd.read_csv('ppl_answer_nucleus_flan_t5_large_0.95_1.20.csv')\n",
    "# ppl_df['generated_answer'] = ans_df['generated_answer']\n",
    "# ppl_df = ppl_df[['pair_id', 'prompt', 'answer', 'generated_answer', 'perplexity']]\n",
    "# ppl_df.to_csv('ppl_answer_nucleus_flan_t5_large_0.95_1.20.csv', index=False)\n",
    "# ppl_df.head()"
   ]
  }
 ],
 "metadata": {
  "kernelspec": {
   "display_name": "Python 3 (ipykernel)",
   "language": "python",
   "name": "python3"
  },
  "language_info": {
   "codemirror_mode": {
    "name": "ipython",
    "version": 3
   },
   "file_extension": ".py",
   "mimetype": "text/x-python",
   "name": "python",
   "nbconvert_exporter": "python",
   "pygments_lexer": "ipython3",
   "version": "3.9.13"
  }
 },
 "nbformat": 4,
 "nbformat_minor": 2
}
