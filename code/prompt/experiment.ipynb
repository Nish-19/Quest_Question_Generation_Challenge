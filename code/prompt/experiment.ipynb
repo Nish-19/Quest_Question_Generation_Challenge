{
 "cells": [
  {
   "cell_type": "code",
   "execution_count": 1,
   "metadata": {},
   "outputs": [],
   "source": [
    "import os \n",
    "import json \n",
    "import pandas as pd \n",
    "from collections import Counter"
   ]
  },
  {
   "cell_type": "code",
   "execution_count": 3,
   "metadata": {},
   "outputs": [],
   "source": [
    "def display_attr_stat(train_df, aug_df, to_add=False):\n",
    "    train_attr_stats = dict(sorted(dict(Counter(train_df['attribute'])).items(), key= lambda item : item[1], reverse=True))\n",
    "    aug_attr_stats = dict(sorted(dict(Counter(aug_df['attribute'])).items(), key= lambda item : item[1], reverse=True))\n",
    "    attr_names = list(train_attr_stats.keys())\n",
    "    train_attr_values = list(train_attr_stats.values())\n",
    "    aug_attr_values = []\n",
    "    for attr_name in attr_names:\n",
    "        try:\n",
    "            aug_attr_values.append(aug_attr_stats[attr_name])\n",
    "        except KeyError:\n",
    "            aug_attr_values.append(0)\n",
    "    attr_df = pd.DataFrame()\n",
    "    attr_df['Attr Name'] = attr_names\n",
    "    attr_df['Train Count'] = train_attr_values\n",
    "    attr_df['Aug Count'] = aug_attr_values\n",
    "    if to_add:\n",
    "        total_values = [tv + av for tv, av in zip(train_attr_values, aug_attr_values)]\n",
    "        attr_df['Total Count'] = total_values\n",
    "    print(attr_df)\n",
    "    return attr_df\n"
   ]
  },
  {
   "cell_type": "code",
   "execution_count": 4,
   "metadata": {},
   "outputs": [],
   "source": [
    "# NOTE: Aug df\n",
    "filter_dir = 'filter'\n",
    "filter_dir = os.path.join(filter_dir, 'sel_aug')\n",
    "filename = 'filter_aug.csv'\n",
    "aug_df = pd.read_csv(os.path.join(filter_dir, filename)).sample(frac=1, random_state=37)\n"
   ]
  },
  {
   "cell_type": "code",
   "execution_count": 2,
   "metadata": {},
   "outputs": [],
   "source": [
    "# NOTE: Train data\n",
    "data_path = '../data/FairytaleQA/train.json'\n",
    "train_data = []\n",
    "with open(data_path, 'r') as infile:\n",
    "    for line in infile:\n",
    "        train_data.append(json.loads(line))\n",
    "train_df = pd.DataFrame(train_data)"
   ]
  },
  {
   "cell_type": "code",
   "execution_count": 7,
   "metadata": {},
   "outputs": [
    {
     "name": "stdout",
     "output_type": "stream",
     "text": [
      "             Attr Name  Train Count  Aug Count  Total Count\n",
      "0               action         2694          0         2694\n",
      "1  causal relationship         2368          0         2368\n",
      "2            character          962       2804         3766\n",
      "3              feeling          824       2169         2993\n",
      "4   outcome resolution          811       1717         2528\n",
      "5              setting          523       1505         2028\n",
      "6           prediction          366        833         1199\n"
     ]
    }
   ],
   "source": [
    "attr_df = display_attr_stat(train_df, aug_df, to_add=True)"
   ]
  },
  {
   "cell_type": "code",
   "execution_count": 11,
   "metadata": {},
   "outputs": [
    {
     "data": {
      "text/plain": [
       "2694"
      ]
     },
     "execution_count": 11,
     "metadata": {},
     "output_type": "execute_result"
    }
   ],
   "source": [
    "attr_df['Train Count'][attr_df['Attr Name'] == 'action'].values[0]"
   ]
  },
  {
   "attachments": {},
   "cell_type": "markdown",
   "metadata": {},
   "source": [
    "# Visualize data"
   ]
  },
  {
   "cell_type": "code",
   "execution_count": 23,
   "metadata": {},
   "outputs": [],
   "source": [
    "def display_cooccurence(df, col1, col2):\n",
    "    co_mat = pd.crosstab(df[col1], df[col2])\n",
    "    print(co_mat)\n",
    "    if col1 == 'ex_or_im' or col2 == 'ex_or_im':\n",
    "        exp_sum = sum(co_mat['explicit'].tolist())\n",
    "        imp_sum = sum(co_mat['implicit'].tolist())\n",
    "        print('\\nSum')\n",
    "        print('Explicit {:d}'.format(exp_sum))\n",
    "        print('Implicit {:d}'.format(imp_sum))\n",
    "    elif col1 == 'local_or_sum' or col2 == 'local_or_sum':\n",
    "        exp_sum = sum(co_mat['local'].tolist())\n",
    "        imp_sum = sum(co_mat['summary'].tolist())\n",
    "        print('\\nSum')\n",
    "        print('Local {:d}'.format(exp_sum))\n",
    "        print('Summary {:d}'.format(imp_sum))"
   ]
  },
  {
   "cell_type": "code",
   "execution_count": 11,
   "metadata": {},
   "outputs": [],
   "source": [
    "def json_to_df(json_file):\n",
    "    train_data = []\n",
    "    with open(json_file, 'r') as infile:\n",
    "        for line in infile:\n",
    "            train_data.append(json.loads(line))\n",
    "    train_df = pd.DataFrame(train_data)\n",
    "    return train_df"
   ]
  },
  {
   "cell_type": "code",
   "execution_count": 12,
   "metadata": {},
   "outputs": [],
   "source": [
    "main_dir = '../data/FairytaleQA/'"
   ]
  },
  {
   "cell_type": "code",
   "execution_count": 14,
   "metadata": {},
   "outputs": [
    {
     "name": "stdout",
     "output_type": "stream",
     "text": [
      "Filename train.json\n",
      "ex_or_im             explicit  implicit\n",
      "attribute                              \n",
      "action                   2392       302\n",
      "causal relationship      1329      1039\n",
      "character                 911        51\n",
      "feeling                   350       474\n",
      "outcome resolution        711       100\n",
      "prediction                171       195\n",
      "setting                   518         5\n",
      "\n",
      "Sum\n",
      "Explicit 6382\n",
      "Implicit 2166\n"
     ]
    }
   ],
   "source": [
    "# train \n",
    "filename = 'train.json'\n",
    "file_path = os.path.join(main_dir, filename)\n",
    "print('Filename {:s}'.format(filename))\n",
    "df = json_to_df(file_path)\n",
    "display_cooccurence(df, 'attribute', 'ex_or_im')"
   ]
  },
  {
   "cell_type": "code",
   "execution_count": 15,
   "metadata": {},
   "outputs": [
    {
     "name": "stdout",
     "output_type": "stream",
     "text": [
      "Filename prompt_aug_full_train.json\n",
      "ex_or_im             explicit  implicit\n",
      "attribute                              \n",
      "action                   3483       384\n",
      "causal relationship      1903      1392\n",
      "character                1341        59\n",
      "feeling                   515       640\n",
      "outcome resolution       1018       136\n",
      "prediction                203       229\n",
      "setting                   765         8\n",
      "\n",
      "Sum\n",
      "Explicit 9228\n",
      "Implicit 2848\n"
     ]
    }
   ],
   "source": [
    "# an example\n",
    "filename = 'prompt_aug_full_train.json'\n",
    "file_path = os.path.join(main_dir, filename)\n",
    "print('Filename {:s}'.format(filename))\n",
    "df = json_to_df(file_path)\n",
    "display_cooccurence(df, 'attribute', 'ex_or_im')"
   ]
  },
  {
   "cell_type": "code",
   "execution_count": 16,
   "metadata": {},
   "outputs": [
    {
     "name": "stdout",
     "output_type": "stream",
     "text": [
      "Filename prompt_aug_selective_train.json\n",
      "ex_or_im             explicit  implicit\n",
      "attribute                              \n",
      "action                   2392       302\n",
      "causal relationship      1329      1039\n",
      "character                1341        59\n",
      "feeling                   515       640\n",
      "outcome resolution       1018       136\n",
      "prediction                203       229\n",
      "setting                   765         8\n",
      "\n",
      "Sum\n",
      "Explicit 7563\n",
      "Implicit 2413\n"
     ]
    }
   ],
   "source": [
    "# an example\n",
    "filename = 'prompt_aug_selective_train.json'\n",
    "file_path = os.path.join(main_dir, filename)\n",
    "print('Filename {:s}'.format(filename))\n",
    "df = json_to_df(file_path)\n",
    "display_cooccurence(df, 'attribute', 'ex_or_im')"
   ]
  },
  {
   "cell_type": "code",
   "execution_count": 17,
   "metadata": {},
   "outputs": [
    {
     "name": "stdout",
     "output_type": "stream",
     "text": [
      "Filename prompt_aug_control_count.json\n",
      "ex_or_im             explicit  implicit\n",
      "attribute                              \n",
      "action                   2392       302\n",
      "causal relationship      1329      1039\n",
      "character                1139        60\n",
      "feeling                   517       682\n",
      "outcome resolution       1052       147\n",
      "prediction                585       614\n",
      "setting                  1188        11\n",
      "\n",
      "Sum\n",
      "Explicit 8202\n",
      "Implicit 2855\n"
     ]
    }
   ],
   "source": [
    "# an example\n",
    "filename = 'prompt_aug_control_count.json'\n",
    "file_path = os.path.join(main_dir, filename)\n",
    "print('Filename {:s}'.format(filename))\n",
    "df = json_to_df(file_path)\n",
    "display_cooccurence(df, 'attribute', 'ex_or_im')"
   ]
  },
  {
   "cell_type": "code",
   "execution_count": 24,
   "metadata": {},
   "outputs": [
    {
     "name": "stdout",
     "output_type": "stream",
     "text": [
      "Filename train.json\n",
      "local_or_sum         local  summary\n",
      "attribute                          \n",
      "action                2574      120\n",
      "causal relationship   2057      311\n",
      "character              910       52\n",
      "feeling                768       56\n",
      "outcome resolution     766       45\n",
      "prediction             170      196\n",
      "setting                511       12\n",
      "\n",
      "Sum\n",
      "Local 7756\n",
      "Summary 792\n"
     ]
    }
   ],
   "source": [
    "# train \n",
    "filename = 'train.json'\n",
    "file_path = os.path.join(main_dir, filename)\n",
    "print('Filename {:s}'.format(filename))\n",
    "df = json_to_df(file_path)\n",
    "display_cooccurence(df, 'attribute', 'local_or_sum')"
   ]
  },
  {
   "cell_type": "code",
   "execution_count": 25,
   "metadata": {},
   "outputs": [
    {
     "name": "stdout",
     "output_type": "stream",
     "text": [
      "Filename prompt_aug_full_train.json\n",
      "local_or_sum         local  summary\n",
      "attribute                          \n",
      "action                3717      150\n",
      "causal relationship   2878      417\n",
      "character             1328       72\n",
      "feeling               1087       68\n",
      "outcome resolution    1091       63\n",
      "prediction             201      231\n",
      "setting                754       19\n",
      "\n",
      "Sum\n",
      "Local 11056\n",
      "Summary 1020\n"
     ]
    }
   ],
   "source": [
    "# an example\n",
    "filename = 'prompt_aug_full_train.json'\n",
    "file_path = os.path.join(main_dir, filename)\n",
    "print('Filename {:s}'.format(filename))\n",
    "df = json_to_df(file_path)\n",
    "display_cooccurence(df, 'attribute', 'local_or_sum')"
   ]
  },
  {
   "cell_type": "code",
   "execution_count": 26,
   "metadata": {},
   "outputs": [
    {
     "name": "stdout",
     "output_type": "stream",
     "text": [
      "Filename prompt_aug_control_count.json\n",
      "local_or_sum         local  summary\n",
      "attribute                          \n",
      "action                2574      120\n",
      "causal relationship   2057      311\n",
      "character             1140       59\n",
      "feeling               1117       82\n",
      "outcome resolution    1135       64\n",
      "prediction             555      644\n",
      "setting               1176       23\n",
      "\n",
      "Sum\n",
      "Local 9754\n",
      "Summary 1303\n"
     ]
    }
   ],
   "source": [
    "# an example\n",
    "filename = 'prompt_aug_control_count.json'\n",
    "file_path = os.path.join(main_dir, filename)\n",
    "print('Filename {:s}'.format(filename))\n",
    "df = json_to_df(file_path)\n",
    "display_cooccurence(df, 'attribute', 'local_or_sum')"
   ]
  },
  {
   "cell_type": "code",
   "execution_count": 27,
   "metadata": {},
   "outputs": [
    {
     "name": "stdout",
     "output_type": "stream",
     "text": [
      "Filename prompt_aug_control_count_rb.json\n",
      "local_or_sum         local  summary\n",
      "attribute                          \n",
      "action                1141       58\n",
      "causal relationship   1033      166\n",
      "character             1140       59\n",
      "feeling               1117       82\n",
      "outcome resolution    1135       64\n",
      "prediction             555      644\n",
      "setting               1176       23\n",
      "\n",
      "Sum\n",
      "Local 7297\n",
      "Summary 1096\n"
     ]
    }
   ],
   "source": [
    "# an example\n",
    "filename = 'prompt_aug_control_count_rb.json'\n",
    "file_path = os.path.join(main_dir, filename)\n",
    "print('Filename {:s}'.format(filename))\n",
    "df = json_to_df(file_path)\n",
    "display_cooccurence(df, 'attribute', 'local_or_sum')"
   ]
  }
 ],
 "metadata": {
  "kernelspec": {
   "display_name": "Python 3",
   "language": "python",
   "name": "python3"
  },
  "language_info": {
   "codemirror_mode": {
    "name": "ipython",
    "version": 3
   },
   "file_extension": ".py",
   "mimetype": "text/x-python",
   "name": "python",
   "nbconvert_exporter": "python",
   "pygments_lexer": "ipython3",
   "version": "3.10.4"
  },
  "orig_nbformat": 4
 },
 "nbformat": 4,
 "nbformat_minor": 2
}
