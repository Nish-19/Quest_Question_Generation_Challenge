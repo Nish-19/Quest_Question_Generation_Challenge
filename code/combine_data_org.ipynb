{
 "cells": [
  {
   "cell_type": "code",
   "execution_count": 7,
   "metadata": {},
   "outputs": [],
   "source": [
    "import os \n",
    "import random\n",
    "import string\n",
    "import json\n",
    "import pandas as pd\n",
    "from collections import Counter"
   ]
  },
  {
   "cell_type": "code",
   "execution_count": 8,
   "metadata": {},
   "outputs": [],
   "source": [
    "def set_seed(seed_val = 37):\n",
    "    # setting the seed\n",
    "    random.seed(seed_val)\n",
    "\n",
    "set_seed(seed_val=37)"
   ]
  },
  {
   "cell_type": "code",
   "execution_count": 9,
   "metadata": {},
   "outputs": [],
   "source": [
    "# TODO: clean string\n",
    "def clean_str(ans):\n",
    "    try:\n",
    "        return ans.translate(str.maketrans('', '', string.punctuation)).lower().strip()\n",
    "    except AttributeError:\n",
    "        return None"
   ]
  },
  {
   "cell_type": "code",
   "execution_count": 10,
   "metadata": {},
   "outputs": [
    {
     "name": "stdout",
     "output_type": "stream",
     "text": [
      "Train data length: 8548\n"
     ]
    }
   ],
   "source": [
    "ans_df = pd.read_csv('flan_t5_large_org_ans.csv')\n",
    "train_path = '../full_data/FairytaleQA/train.json'\n",
    "train_data = []\n",
    "with open(train_path, 'r') as infile:\n",
    "    for line in infile:\n",
    "        train_data.append(json.loads(line))\n",
    "train_df = pd.DataFrame(train_data)\n",
    "print('Train data length:', len(train_df))"
   ]
  },
  {
   "cell_type": "code",
   "execution_count": 11,
   "metadata": {},
   "outputs": [
    {
     "data": {
      "text/plain": [
       "Index(['story_name', 'content', 'answer', 'question', 'local_or_sum',\n",
       "       'attribute', 'ex_or_im', 'generated_question', 'generated_answer'],\n",
       "      dtype='object')"
      ]
     },
     "execution_count": 11,
     "metadata": {},
     "output_type": "execute_result"
    }
   ],
   "source": [
    "ans_df.columns"
   ]
  },
  {
   "cell_type": "code",
   "execution_count": 12,
   "metadata": {},
   "outputs": [],
   "source": [
    "# Filter based on exact match of answers\n",
    "select_rows = []\n",
    "for i, row in ans_df.iterrows():\n",
    "    if clean_str(row['answer']) == clean_str(row['generated_answer']):\n",
    "        select_rows.append(row.values)"
   ]
  },
  {
   "cell_type": "code",
   "execution_count": 13,
   "metadata": {},
   "outputs": [],
   "source": [
    "# NOTE: Shuffle rows\n",
    "random.shuffle(select_rows)"
   ]
  },
  {
   "cell_type": "code",
   "execution_count": 14,
   "metadata": {},
   "outputs": [
    {
     "data": {
      "text/html": [
       "<div>\n",
       "<style scoped>\n",
       "    .dataframe tbody tr th:only-of-type {\n",
       "        vertical-align: middle;\n",
       "    }\n",
       "\n",
       "    .dataframe tbody tr th {\n",
       "        vertical-align: top;\n",
       "    }\n",
       "\n",
       "    .dataframe thead th {\n",
       "        text-align: right;\n",
       "    }\n",
       "</style>\n",
       "<table border=\"1\" class=\"dataframe\">\n",
       "  <thead>\n",
       "    <tr style=\"text-align: right;\">\n",
       "      <th></th>\n",
       "      <th>story_name</th>\n",
       "      <th>content</th>\n",
       "      <th>answer</th>\n",
       "      <th>question</th>\n",
       "      <th>local_or_sum</th>\n",
       "      <th>attribute</th>\n",
       "      <th>ex_or_im</th>\n",
       "      <th>generated_question</th>\n",
       "      <th>generated_answer</th>\n",
       "    </tr>\n",
       "  </thead>\n",
       "  <tbody>\n",
       "    <tr>\n",
       "      <th>0</th>\n",
       "      <td>ola-storbaekkjen</td>\n",
       "      <td>now once , at the time of the hay harvest , he...</td>\n",
       "      <td>into the hill .</td>\n",
       "      <td>where was ola taken ?</td>\n",
       "      <td>local</td>\n",
       "      <td>setting</td>\n",
       "      <td>explicit</td>\n",
       "      <td>where did the man take ola?</td>\n",
       "      <td>into the hill.</td>\n",
       "    </tr>\n",
       "    <tr>\n",
       "      <th>1</th>\n",
       "      <td>the-adventures-of-gilla-na-chreck-an-gour</td>\n",
       "      <td>tom would not bring the flail into the palace ...</td>\n",
       "      <td>frightened .</td>\n",
       "      <td>how did the danes feel when they heard the sto...</td>\n",
       "      <td>local</td>\n",
       "      <td>feeling</td>\n",
       "      <td>explicit</td>\n",
       "      <td>how did ohers feel because they heard about th...</td>\n",
       "      <td>frightened.</td>\n",
       "    </tr>\n",
       "    <tr>\n",
       "      <th>2</th>\n",
       "      <td>the-mouse-the-bird-and-the-sausage</td>\n",
       "      <td>when the mouse had made up her fire and drawn ...</td>\n",
       "      <td>go to bed and sleep their fill till the next m...</td>\n",
       "      <td>what do they do after a meal ?</td>\n",
       "      <td>local</td>\n",
       "      <td>action</td>\n",
       "      <td>explicit</td>\n",
       "      <td>what did the bird do after the meal?</td>\n",
       "      <td>go to bed and sleep their fill till the next m...</td>\n",
       "    </tr>\n",
       "    <tr>\n",
       "      <th>3</th>\n",
       "      <td>prince-featherhead-and-the-princess-celandine</td>\n",
       "      <td>' why should you not ? ' said the princess tim...</td>\n",
       "      <td>the portrait .</td>\n",
       "      <td>what did the princess ask to be allowed to see ?</td>\n",
       "      <td>local</td>\n",
       "      <td>action</td>\n",
       "      <td>explicit</td>\n",
       "      <td>what did celandine decide was meant for the pr...</td>\n",
       "      <td>the portrait.</td>\n",
       "    </tr>\n",
       "    <tr>\n",
       "      <th>4</th>\n",
       "      <td>momotaro-story-of-son-of-peach</td>\n",
       "      <td>on hearing this the old man and his wife were ...</td>\n",
       "      <td>he had come out of a peach .</td>\n",
       "      <td>why did the couple name the boy 'momotaro' ?</td>\n",
       "      <td>local</td>\n",
       "      <td>causal relationship</td>\n",
       "      <td>explicit</td>\n",
       "      <td>why was momotaro the child's name?</td>\n",
       "      <td>he had come out of a peach.</td>\n",
       "    </tr>\n",
       "  </tbody>\n",
       "</table>\n",
       "</div>"
      ],
      "text/plain": [
       "                                      story_name  \\\n",
       "0                               ola-storbaekkjen   \n",
       "1      the-adventures-of-gilla-na-chreck-an-gour   \n",
       "2             the-mouse-the-bird-and-the-sausage   \n",
       "3  prince-featherhead-and-the-princess-celandine   \n",
       "4                 momotaro-story-of-son-of-peach   \n",
       "\n",
       "                                             content  \\\n",
       "0  now once , at the time of the hay harvest , he...   \n",
       "1  tom would not bring the flail into the palace ...   \n",
       "2  when the mouse had made up her fire and drawn ...   \n",
       "3  ' why should you not ? ' said the princess tim...   \n",
       "4  on hearing this the old man and his wife were ...   \n",
       "\n",
       "                                              answer  \\\n",
       "0                                    into the hill .   \n",
       "1                                       frightened .   \n",
       "2  go to bed and sleep their fill till the next m...   \n",
       "3                                     the portrait .   \n",
       "4                       he had come out of a peach .   \n",
       "\n",
       "                                            question local_or_sum  \\\n",
       "0                              where was ola taken ?        local   \n",
       "1  how did the danes feel when they heard the sto...        local   \n",
       "2                     what do they do after a meal ?        local   \n",
       "3   what did the princess ask to be allowed to see ?        local   \n",
       "4       why did the couple name the boy 'momotaro' ?        local   \n",
       "\n",
       "             attribute  ex_or_im  \\\n",
       "0              setting  explicit   \n",
       "1              feeling  explicit   \n",
       "2               action  explicit   \n",
       "3               action  explicit   \n",
       "4  causal relationship  explicit   \n",
       "\n",
       "                                  generated_question  \\\n",
       "0                        where did the man take ola?   \n",
       "1  how did ohers feel because they heard about th...   \n",
       "2               what did the bird do after the meal?   \n",
       "3  what did celandine decide was meant for the pr...   \n",
       "4                 why was momotaro the child's name?   \n",
       "\n",
       "                                    generated_answer  \n",
       "0                                     into the hill.  \n",
       "1                                        frightened.  \n",
       "2  go to bed and sleep their fill till the next m...  \n",
       "3                                      the portrait.  \n",
       "4                        he had come out of a peach.  "
      ]
     },
     "execution_count": 14,
     "metadata": {},
     "output_type": "execute_result"
    }
   ],
   "source": [
    "em_ans_df = pd.DataFrame(select_rows, columns=ans_df.columns)\n",
    "em_ans_df.head()"
   ]
  },
  {
   "cell_type": "code",
   "execution_count": 15,
   "metadata": {},
   "outputs": [],
   "source": [
    "def get_attribute_count(df):\n",
    "    count = dict(Counter(df['attribute']))\n",
    "    return count"
   ]
  },
  {
   "cell_type": "code",
   "execution_count": 16,
   "metadata": {},
   "outputs": [
    {
     "data": {
      "text/plain": [
       "{'causal relationship': 2368,\n",
       " 'character': 962,\n",
       " 'action': 2694,\n",
       " 'setting': 523,\n",
       " 'outcome resolution': 811,\n",
       " 'feeling': 824,\n",
       " 'prediction': 366}"
      ]
     },
     "execution_count": 16,
     "metadata": {},
     "output_type": "execute_result"
    }
   ],
   "source": [
    "train_attr_count = get_attribute_count(train_df)\n",
    "train_attr_count"
   ]
  },
  {
   "cell_type": "code",
   "execution_count": 17,
   "metadata": {},
   "outputs": [
    {
     "data": {
      "text/plain": [
       "{'setting': 7461,\n",
       " 'feeling': 12387,\n",
       " 'action': 26284,\n",
       " 'causal relationship': 11947,\n",
       " 'prediction': 2208,\n",
       " 'character': 14598,\n",
       " 'outcome resolution': 4306}"
      ]
     },
     "execution_count": 17,
     "metadata": {},
     "output_type": "execute_result"
    }
   ],
   "source": [
    "em_attr_count = get_attribute_count(em_ans_df)\n",
    "em_attr_count"
   ]
  },
  {
   "attachments": {},
   "cell_type": "markdown",
   "metadata": {},
   "source": [
    "# Complete Data Augment"
   ]
  },
  {
   "cell_type": "code",
   "execution_count": 23,
   "metadata": {},
   "outputs": [
    {
     "data": {
      "text/plain": [
       "{'causal relationship': 14315,\n",
       " 'character': 15560,\n",
       " 'action': 28978,\n",
       " 'setting': 7984,\n",
       " 'outcome resolution': 5117,\n",
       " 'feeling': 13211,\n",
       " 'prediction': 2574}"
      ]
     },
     "execution_count": 23,
     "metadata": {},
     "output_type": "execute_result"
    }
   ],
   "source": [
    "# NOTE: Append complete data\n",
    "aug_df = pd.DataFrame(select_rows, columns=ans_df.columns)\n",
    "aug_df_data = aug_df.to_dict('records')\n",
    "combine_full_data = train_data + aug_df_data\n",
    "combine_full_df = pd.DataFrame(combine_full_data)\n",
    "combine_full_attr_stats = get_attribute_count(combine_full_df)\n",
    "combine_full_attr_stats"
   ]
  },
  {
   "cell_type": "code",
   "execution_count": 24,
   "metadata": {},
   "outputs": [],
   "source": [
    "with open('train_org_data_full_aug.json', 'w') as outfile:\n",
    "    for d in combine_full_data:\n",
    "        json.dump(d, outfile)\n",
    "        outfile.write('\\n')"
   ]
  },
  {
   "attachments": {},
   "cell_type": "markdown",
   "metadata": {},
   "source": [
    "# Selective Augment"
   ]
  },
  {
   "cell_type": "code",
   "execution_count": 25,
   "metadata": {},
   "outputs": [
    {
     "name": "stdout",
     "output_type": "stream",
     "text": [
      "{'causal relationship': 14315, 'character': 15560, 'action': 28978, 'setting': 7984, 'outcome resolution': 5117, 'feeling': 13211, 'prediction': 2574}\n",
      "prediction 2574\n"
     ]
    }
   ],
   "source": [
    "total_count = {}\n",
    "min_attr, min_count = '', 11111111\n",
    "for attr_name, attr_count in train_attr_count.items():\n",
    "    total_count[attr_name] = attr_count + em_attr_count[attr_name]\n",
    "    if total_count[attr_name] < min_count:\n",
    "        min_attr, min_count = attr_name, total_count[attr_name]\n",
    "print(total_count)\n",
    "print(min_attr, min_count)"
   ]
  },
  {
   "cell_type": "code",
   "execution_count": 26,
   "metadata": {},
   "outputs": [
    {
     "data": {
      "text/plain": [
       "{'causal relationship': 206,\n",
       " 'character': 1612,\n",
       " 'action': -120,\n",
       " 'setting': 2051,\n",
       " 'outcome resolution': 1763,\n",
       " 'feeling': 1750,\n",
       " 'prediction': 2208}"
      ]
     },
     "execution_count": 26,
     "metadata": {},
     "output_type": "execute_result"
    }
   ],
   "source": [
    "max_augment = {}\n",
    "for attr_name, attr_count in train_attr_count.items():\n",
    "    max_augment[attr_name] = min_count - attr_count\n",
    "max_augment"
   ]
  },
  {
   "cell_type": "code",
   "execution_count": 27,
   "metadata": {},
   "outputs": [],
   "source": [
    "# Selectively augment \n",
    "include_rows = []\n",
    "for i, row in em_ans_df.iterrows():\n",
    "    if max_augment[row['attribute']] > 0:\n",
    "        include_rows.append(row.values)\n",
    "        max_augment[row['attribute']] -= 1"
   ]
  },
  {
   "cell_type": "code",
   "execution_count": 28,
   "metadata": {},
   "outputs": [
    {
     "name": "stdout",
     "output_type": "stream",
     "text": [
      "9590\n"
     ]
    }
   ],
   "source": [
    "include_df = pd.DataFrame(include_rows, columns=ans_df.columns)\n",
    "include_df_data = include_df.to_dict('records')\n",
    "print(len(include_df_data))"
   ]
  },
  {
   "cell_type": "code",
   "execution_count": 29,
   "metadata": {},
   "outputs": [
    {
     "name": "stdout",
     "output_type": "stream",
     "text": [
      "18138\n"
     ]
    }
   ],
   "source": [
    "combine_data = train_data + include_df_data\n",
    "print(len(combine_data))"
   ]
  },
  {
   "cell_type": "code",
   "execution_count": 30,
   "metadata": {},
   "outputs": [
    {
     "data": {
      "text/plain": [
       "{'causal relationship': 2574,\n",
       " 'character': 2574,\n",
       " 'action': 2694,\n",
       " 'setting': 2574,\n",
       " 'outcome resolution': 2574,\n",
       " 'feeling': 2574,\n",
       " 'prediction': 2574}"
      ]
     },
     "execution_count": 30,
     "metadata": {},
     "output_type": "execute_result"
    }
   ],
   "source": [
    "combine_df = pd.DataFrame(combine_data)\n",
    "combine_attr_stats = get_attribute_count(combine_df)\n",
    "combine_attr_stats"
   ]
  },
  {
   "cell_type": "code",
   "execution_count": 32,
   "metadata": {},
   "outputs": [],
   "source": [
    "with open('train_org_data_bal_aug.json', 'w') as outfile:\n",
    "    for d in combine_data:\n",
    "        json.dump(d, outfile)\n",
    "        outfile.write('\\n')"
   ]
  }
 ],
 "metadata": {
  "kernelspec": {
   "display_name": "Python 3.9.13 ('nistorch')",
   "language": "python",
   "name": "python3"
  },
  "language_info": {
   "codemirror_mode": {
    "name": "ipython",
    "version": 3
   },
   "file_extension": ".py",
   "mimetype": "text/x-python",
   "name": "python",
   "nbconvert_exporter": "python",
   "pygments_lexer": "ipython3",
   "version": "3.9.13"
  },
  "orig_nbformat": 4,
  "vscode": {
   "interpreter": {
    "hash": "f9252b50041faf50722dbecd05c0b4f313951cc808aff37b78d20043a4575a64"
   }
  }
 },
 "nbformat": 4,
 "nbformat_minor": 2
}
